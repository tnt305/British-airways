{
 "cells": [
  {
   "attachments": {},
   "cell_type": "markdown",
   "metadata": {},
   "source": [
    "BRITISH AIRWAYS ANALYSIS\n",
    "---\n"
   ]
  },
  {
   "cell_type": "code",
   "execution_count": 1,
   "metadata": {},
   "outputs": [],
   "source": [
    "#import packages\n",
    "\n",
    "import requests\n",
    "from bs4 import BeautifulSoup\n",
    "import pandas as pd\n",
    "import numpy as np \n",
    "import matplotlib.pyplot as plt\n",
    "import seaborn as sns\n",
    "pd.options.display.float_format = '{:.5f}'.format \n",
    "np.set_printoptions(suppress=True, precision=5)"
   ]
  },
  {
   "attachments": {},
   "cell_type": "markdown",
   "metadata": {},
   "source": [
    "## <center><h2>Classification booking completion <h2><center>\n",
    "---"
   ]
  },
  {
   "cell_type": "code",
   "execution_count": 2,
   "metadata": {},
   "outputs": [],
   "source": [
    "from sklearn.model_selection import train_test_split, KFold, cross_validate, cross_val_score\n",
    "from sklearn.pipeline import Pipeline\n",
    "from sklearn.compose import ColumnTransformer\n",
    "from sklearn.preprocessing import LabelEncoder, OneHotEncoder\n",
    "#from sklearn.impute import SimpleImputer\n",
    "from sklearn.ensemble import RandomForestClassifier\n",
    "from xgboost import XGBClassifier\n",
    "from sklearn.linear_model import LogisticRegression\n",
    "from sklearn.tree import DecisionTreeClassifier\n",
    "from sklearn.metrics import accuracy_score\n",
    "from sklearn.model_selection import train_test_split \n",
    "from sklearn import metrics\n",
    "from sklearn.metrics import r2_score\n",
    "from sklearn.linear_model import LogisticRegression\n",
    "from sklearn.model_selection import GridSearchCV\n",
    "pd.options.display.float_format = \"{:.3f}\".format"
   ]
  },
  {
   "cell_type": "code",
   "execution_count": 3,
   "metadata": {},
   "outputs": [
    {
     "data": {
      "text/html": [
       "<div>\n",
       "<style scoped>\n",
       "    .dataframe tbody tr th:only-of-type {\n",
       "        vertical-align: middle;\n",
       "    }\n",
       "\n",
       "    .dataframe tbody tr th {\n",
       "        vertical-align: top;\n",
       "    }\n",
       "\n",
       "    .dataframe thead th {\n",
       "        text-align: right;\n",
       "    }\n",
       "</style>\n",
       "<table border=\"1\" class=\"dataframe\">\n",
       "  <thead>\n",
       "    <tr style=\"text-align: right;\">\n",
       "      <th></th>\n",
       "      <th>num_passengers</th>\n",
       "      <th>sales_channel</th>\n",
       "      <th>trip_type</th>\n",
       "      <th>purchase_lead</th>\n",
       "      <th>length_of_stay</th>\n",
       "      <th>flight_hour</th>\n",
       "      <th>flight_day</th>\n",
       "      <th>route</th>\n",
       "      <th>booking_origin</th>\n",
       "      <th>wants_extra_baggage</th>\n",
       "      <th>wants_preferred_seat</th>\n",
       "      <th>wants_in_flight_meals</th>\n",
       "      <th>flight_duration</th>\n",
       "      <th>booking_complete</th>\n",
       "    </tr>\n",
       "  </thead>\n",
       "  <tbody>\n",
       "    <tr>\n",
       "      <th>0</th>\n",
       "      <td>2</td>\n",
       "      <td>Internet</td>\n",
       "      <td>RoundTrip</td>\n",
       "      <td>262</td>\n",
       "      <td>19</td>\n",
       "      <td>7</td>\n",
       "      <td>Sat</td>\n",
       "      <td>AKLDEL</td>\n",
       "      <td>New Zealand</td>\n",
       "      <td>1</td>\n",
       "      <td>0</td>\n",
       "      <td>0</td>\n",
       "      <td>5.520</td>\n",
       "      <td>0</td>\n",
       "    </tr>\n",
       "    <tr>\n",
       "      <th>1</th>\n",
       "      <td>1</td>\n",
       "      <td>Internet</td>\n",
       "      <td>RoundTrip</td>\n",
       "      <td>112</td>\n",
       "      <td>20</td>\n",
       "      <td>3</td>\n",
       "      <td>Sat</td>\n",
       "      <td>AKLDEL</td>\n",
       "      <td>New Zealand</td>\n",
       "      <td>0</td>\n",
       "      <td>0</td>\n",
       "      <td>0</td>\n",
       "      <td>5.520</td>\n",
       "      <td>0</td>\n",
       "    </tr>\n",
       "    <tr>\n",
       "      <th>2</th>\n",
       "      <td>2</td>\n",
       "      <td>Internet</td>\n",
       "      <td>RoundTrip</td>\n",
       "      <td>243</td>\n",
       "      <td>22</td>\n",
       "      <td>17</td>\n",
       "      <td>Wed</td>\n",
       "      <td>AKLDEL</td>\n",
       "      <td>India</td>\n",
       "      <td>1</td>\n",
       "      <td>1</td>\n",
       "      <td>0</td>\n",
       "      <td>5.520</td>\n",
       "      <td>0</td>\n",
       "    </tr>\n",
       "    <tr>\n",
       "      <th>3</th>\n",
       "      <td>1</td>\n",
       "      <td>Internet</td>\n",
       "      <td>RoundTrip</td>\n",
       "      <td>96</td>\n",
       "      <td>31</td>\n",
       "      <td>4</td>\n",
       "      <td>Sat</td>\n",
       "      <td>AKLDEL</td>\n",
       "      <td>New Zealand</td>\n",
       "      <td>0</td>\n",
       "      <td>0</td>\n",
       "      <td>1</td>\n",
       "      <td>5.520</td>\n",
       "      <td>0</td>\n",
       "    </tr>\n",
       "    <tr>\n",
       "      <th>4</th>\n",
       "      <td>2</td>\n",
       "      <td>Internet</td>\n",
       "      <td>RoundTrip</td>\n",
       "      <td>68</td>\n",
       "      <td>22</td>\n",
       "      <td>15</td>\n",
       "      <td>Wed</td>\n",
       "      <td>AKLDEL</td>\n",
       "      <td>India</td>\n",
       "      <td>1</td>\n",
       "      <td>0</td>\n",
       "      <td>1</td>\n",
       "      <td>5.520</td>\n",
       "      <td>0</td>\n",
       "    </tr>\n",
       "  </tbody>\n",
       "</table>\n",
       "</div>"
      ],
      "text/plain": [
       "   num_passengers sales_channel  trip_type  purchase_lead  length_of_stay  \\\n",
       "0               2      Internet  RoundTrip            262              19   \n",
       "1               1      Internet  RoundTrip            112              20   \n",
       "2               2      Internet  RoundTrip            243              22   \n",
       "3               1      Internet  RoundTrip             96              31   \n",
       "4               2      Internet  RoundTrip             68              22   \n",
       "\n",
       "   flight_hour flight_day   route booking_origin  wants_extra_baggage  \\\n",
       "0            7        Sat  AKLDEL    New Zealand                    1   \n",
       "1            3        Sat  AKLDEL    New Zealand                    0   \n",
       "2           17        Wed  AKLDEL          India                    1   \n",
       "3            4        Sat  AKLDEL    New Zealand                    0   \n",
       "4           15        Wed  AKLDEL          India                    1   \n",
       "\n",
       "   wants_preferred_seat  wants_in_flight_meals  flight_duration  \\\n",
       "0                     0                      0            5.520   \n",
       "1                     0                      0            5.520   \n",
       "2                     1                      0            5.520   \n",
       "3                     0                      1            5.520   \n",
       "4                     0                      1            5.520   \n",
       "\n",
       "   booking_complete  \n",
       "0                 0  \n",
       "1                 0  \n",
       "2                 0  \n",
       "3                 0  \n",
       "4                 0  "
      ]
     },
     "execution_count": 3,
     "metadata": {},
     "output_type": "execute_result"
    }
   ],
   "source": [
    "#Import data\n",
    "df = pd.read_csv(r'E:\\learn st new\\british airways theforage\\customer_booking.csv', encoding ='latin1')\n",
    "df.head()"
   ]
  },
  {
   "cell_type": "code",
   "execution_count": 4,
   "metadata": {},
   "outputs": [
    {
     "data": {
      "text/plain": [
       "num_passengers           0\n",
       "sales_channel            0\n",
       "trip_type                0\n",
       "purchase_lead            0\n",
       "length_of_stay           0\n",
       "flight_hour              0\n",
       "flight_day               0\n",
       "route                    0\n",
       "booking_origin           0\n",
       "wants_extra_baggage      0\n",
       "wants_preferred_seat     0\n",
       "wants_in_flight_meals    0\n",
       "flight_duration          0\n",
       "booking_complete         0\n",
       "dtype: int64"
      ]
     },
     "execution_count": 4,
     "metadata": {},
     "output_type": "execute_result"
    }
   ],
   "source": [
    "df.isnull().sum()"
   ]
  },
  {
   "cell_type": "code",
   "execution_count": 5,
   "metadata": {},
   "outputs": [
    {
     "data": {
      "text/plain": [
       "['sales_channel', 'trip_type', 'flight_day', 'route', 'booking_origin']"
      ]
     },
     "execution_count": 5,
     "metadata": {},
     "output_type": "execute_result"
    }
   ],
   "source": [
    "cat_col = []\n",
    "for x in df.dtypes.index:\n",
    "    if df.dtypes[x] == 'object':\n",
    "        cat_col.append(x)\n",
    "cat_col"
   ]
  },
  {
   "cell_type": "code",
   "execution_count": 6,
   "metadata": {},
   "outputs": [
    {
     "name": "stdout",
     "output_type": "stream",
     "text": [
      "sales_channel\n",
      "Internet    44382\n",
      "Mobile       5618\n",
      "Name: sales_channel, dtype: int64\n",
      "\n",
      "trip_type\n",
      "RoundTrip     49497\n",
      "OneWay          387\n",
      "CircleTrip      116\n",
      "Name: trip_type, dtype: int64\n",
      "\n",
      "flight_day\n",
      "Mon    8102\n",
      "Wed    7674\n",
      "Tue    7673\n",
      "Thu    7424\n",
      "Fri    6761\n",
      "Sun    6554\n",
      "Sat    5812\n",
      "Name: flight_day, dtype: int64\n",
      "\n",
      "route\n",
      "AKLKUL    2680\n",
      "PENTPE     924\n",
      "MELSGN     842\n",
      "ICNSIN     801\n",
      "DMKKIX     744\n",
      "          ... \n",
      "LBUTPE       1\n",
      "CXRMEL       1\n",
      "DELKBR       1\n",
      "KOSSYD       1\n",
      "MRUXIY       1\n",
      "Name: route, Length: 799, dtype: int64\n",
      "\n",
      "booking_origin\n",
      "Australia               17872\n",
      "Malaysia                 7174\n",
      "South Korea              4559\n",
      "Japan                    3885\n",
      "China                    3387\n",
      "                        ...  \n",
      "Panama                      1\n",
      "Tonga                       1\n",
      "Tanzania                    1\n",
      "Bulgaria                    1\n",
      "Svalbard & Jan Mayen        1\n",
      "Name: booking_origin, Length: 104, dtype: int64\n",
      "\n"
     ]
    }
   ],
   "source": [
    "for col in cat_col:\n",
    "    print(col)\n",
    "    print(df[col].value_counts())\n",
    "    print()"
   ]
  },
  {
   "cell_type": "code",
   "execution_count": 7,
   "metadata": {},
   "outputs": [],
   "source": [
    "labelencoder = LabelEncoder()\n",
    "df['sales_channel'] = labelencoder.fit_transform(df['sales_channel'])\n",
    "df['trip_type'] =labelencoder.fit_transform(df['trip_type'])\n",
    "df['flight_day'] =labelencoder.fit_transform(df['flight_day'])\n",
    "df['route'] = labelencoder.fit_transform(df['route'])\n",
    "df['booking_origin'] =labelencoder.fit_transform(df['booking_origin'])\n",
    "\n",
    "#8 dữ liệu encoding"
   ]
  },
  {
   "cell_type": "code",
   "execution_count": 18,
   "metadata": {},
   "outputs": [],
   "source": [
    "# pipeline featuring\n",
    "\n",
    "cat_features = ['sales_channel','trip_type','flight_day','route','booking_origin']\n",
    "\n",
    "num_features = ['num_passengers','purchase_lead','length_of_stay', 'flight_hour', 'flight_duration', 'wants_extra_baggage','wants_preferred_seat','wants_in_flight_meals']\n",
    "\n",
    "features = num_features + cat_features\n",
    "X = df.drop([\"booking_complete\"], axis=1)[features]\n",
    "y = df[\"booking_complete\"]"
   ]
  },
  {
   "cell_type": "code",
   "execution_count": 20,
   "metadata": {},
   "outputs": [],
   "source": [
    "X = pd.get_dummies(data = X, prefix = cat_features, columns = cat_features)"
   ]
  },
  {
   "cell_type": "code",
   "execution_count": 25,
   "metadata": {},
   "outputs": [
    {
     "name": "stdout",
     "output_type": "stream",
     "text": [
      "target proportion: 0.1496\n"
     ]
    }
   ],
   "source": [
    "print(f'target proportion: {sum(y)/len(y):.4f}')"
   ]
  },
  {
   "cell_type": "code",
   "execution_count": 27,
   "metadata": {},
   "outputs": [
    {
     "name": "stdout",
     "output_type": "stream",
     "text": [
      "Shape of X before SMOTE: (50000, 923)\n",
      "Shape of X after SMOTE: (50000, 923)\n",
      "\n",
      "Balance of positive and negative classes (%):\n"
     ]
    },
    {
     "data": {
      "text/plain": [
       "0    42522\n",
       "1    42522\n",
       "Name: booking_complete, dtype: int64"
      ]
     },
     "execution_count": 27,
     "metadata": {},
     "output_type": "execute_result"
    }
   ],
   "source": [
    "# Do dữ liệu bị mất cân bằng, cần tăng số lượng dữ liệu để tránh imbalance\n",
    "from imblearn.over_sampling import SMOTE\n",
    "\n",
    "# Smote\n",
    "smote = SMOTE(random_state= None ,k_neighbors= 5)\n",
    "\n",
    "x, y = smote.fit_resample(X, y)\n",
    "\n",
    "print(f'''Shape of X before SMOTE: {X.shape}\n",
    "Shape of X after SMOTE: {X.shape}''')\n",
    "\n",
    "print('\\nBalance of positive and negative classes (%):')\n",
    "y.value_counts()"
   ]
  },
  {
   "cell_type": "code",
   "execution_count": 30,
   "metadata": {},
   "outputs": [
    {
     "name": "stdout",
     "output_type": "stream",
     "text": [
      "Variables in Train Set : 63783 & Test Set : 21261\n"
     ]
    }
   ],
   "source": [
    "from sklearn.model_selection import train_test_split\n",
    "RANDOM_STATE = 50\n",
    "x_train,x_test,y_train,y_test = train_test_split(x, y,test_size=0.25, random_state= RANDOM_STATE)\n",
    "print(\"Variables in Train Set : {} & Test Set : {}\".format(len(x_train), len(x_test)))"
   ]
  },
  {
   "cell_type": "code",
   "execution_count": 31,
   "metadata": {},
   "outputs": [
    {
     "name": "stdout",
     "output_type": "stream",
     "text": [
      "target proportion: 0.4992\n"
     ]
    }
   ],
   "source": [
    "print(f'target proportion: {sum(y_train)/len(y_train):.4f}')"
   ]
  },
  {
   "attachments": {},
   "cell_type": "markdown",
   "metadata": {},
   "source": [
    "----------"
   ]
  },
  {
   "cell_type": "code",
   "execution_count": 34,
   "metadata": {},
   "outputs": [],
   "source": [
    "DT_model = DecisionTreeClassifier(random_state=RANDOM_STATE)\n",
    "RF_model= RandomForestClassifier(random_state=RANDOM_STATE,n_jobs=-1)\n",
    "LR_model= LogisticRegression(random_state=RANDOM_STATE,n_jobs=-1)\n",
    "XGB_model = XGBClassifier(random_state=RANDOM_STATE, n_jobs=-1)\n",
    "model = [DT_model, RF_model, LR_model, XGB_model]"
   ]
  },
  {
   "cell_type": "code",
   "execution_count": 39,
   "metadata": {},
   "outputs": [
    {
     "name": "stdout",
     "output_type": "stream",
     "text": [
      "DecisionTreeClassifier(random_state=50) cross validation accuarcy score: 0.8684 +/- 0.0018 (std) min: 0.866, max: 0.871, \n",
      "RandomForestClassifier(n_jobs=-1, random_state=50) cross validation accuarcy score: 0.8978 +/- 0.0032 (std) min: 0.8953, max: 0.9032, \n",
      "LogisticRegression(n_jobs=-1, random_state=50) cross validation accuarcy score: 0.854 +/- 0.0058 (std) min: 0.8442, max: 0.8589, \n",
      "XGBClassifier(base_score=None, booster=None, callbacks=None,\n",
      "              colsample_bylevel=None, colsample_bynode=None,\n",
      "              colsample_bytree=None, early_stopping_rounds=None,\n",
      "              enable_categorical=False, eval_metric=None, feature_types=None,\n",
      "              gamma=None, gpu_id=None, grow_policy=None, importance_type=None,\n",
      "              interaction_constraints=None, learning_rate=None, max_bin=None,\n",
      "              max_cat_threshold=None, max_cat_to_onehot=None,\n",
      "              max_delta_step=None, max_depth=None, max_leaves=None,\n",
      "              min_child_weight=None, missing=nan, monotone_constraints=None,\n",
      "              n_estimators=100, n_jobs=-1, num_parallel_tree=None,\n",
      "              predictor=None, random_state=50, ...) cross validation accuarcy score: 0.8957 +/- 0.0038 (std) min: 0.8909, max: 0.9016, \n"
     ]
    }
   ],
   "source": [
    "for i in range(len(model)):\n",
    "    kfolds = 4 \n",
    "    split = KFold(n_splits= kfolds, shuffle=True, random_state=42)\n",
    "    output = cross_val_score(model[i],x_train, y_train, cv= split, scoring ='accuracy', n_jobs=-1)\n",
    "\n",
    "    min_score = round(min(output), 4)\n",
    "    max_score = round(max(output), 4)\n",
    "    mean_score = round(np.mean(output), 4)\n",
    "    std_dev = round(np.std(output), 4)\n",
    "    \n",
    "    print(f\"{model[i]} cross validation accuarcy score: {mean_score} +/- {std_dev} (std) min: {min_score}, max: {max_score}, \")"
   ]
  },
  {
   "attachments": {},
   "cell_type": "markdown",
   "metadata": {},
   "source": [
    "Random Forest có sai số nhỏ và accuracy score lớn --> lựa chọn RF làm model chính"
   ]
  },
  {
   "cell_type": "code",
   "execution_count": 40,
   "metadata": {},
   "outputs": [],
   "source": [
    "# Lựa chọn các tham số để điều chỉnh\n",
    "min_samples_split_list = [2,10, 30, 50, 100, 200, 300, 700]  \n",
    "max_depth_list = [2, 4, 8, 16, 32, 64, None]\n",
    "n_estimators_list = [10,50,100,500]"
   ]
  },
  {
   "cell_type": "code",
   "execution_count": 46,
   "metadata": {},
   "outputs": [
    {
     "data": {
      "text/plain": [
       "<matplotlib.legend.Legend at 0x14b9fe79720>"
      ]
     },
     "execution_count": 46,
     "metadata": {},
     "output_type": "execute_result"
    },
    {
     "data": {
      "image/png": "[encoded data removed]",
      "text/plain": [
       "<Figure size 640x480 with 1 Axes>"
      ]
     },
     "metadata": {},
     "output_type": "display_data"
    }
   ],
   "source": [
    "accuracy_list_train = []\n",
    "accuracy_list_val = []\n",
    "for min_samples_split in min_samples_split_list:\n",
    "     model = RandomForestClassifier(min_samples_split = min_samples_split,\n",
    "                                   random_state = RANDOM_STATE).fit(x_train,y_train) \n",
    "     predictions_train = model.predict(x_train)\n",
    "     predictions_val = model.predict(x_test) \n",
    "     accuracy_train = accuracy_score(predictions_train,y_train)\n",
    "     accuracy_val = accuracy_score(predictions_val,y_test)\n",
    "     accuracy_list_train.append(accuracy_train)\n",
    "     accuracy_list_val.append(accuracy_val)\n",
    "\n",
    "plt.title('Train x Validation metrics')\n",
    "plt.xlabel('min_samples_split')\n",
    "plt.ylabel('accuracy')\n",
    "plt.xticks(ticks = range(len(min_samples_split_list)),labels=min_samples_split_list) \n",
    "plt.plot(accuracy_list_train)\n",
    "plt.plot(accuracy_list_val)\n",
    "plt.legend(['Train','Validation'])"
   ]
  },
  {
   "cell_type": "code",
   "execution_count": null,
   "metadata": {},
   "outputs": [],
   "source": [
    "accuracy_list_train = []\n",
    "accuracy_list_val = []\n",
    "for max_depth in max_depth_list:\n",
    "     model = RandomForestClassifier(max_depth = max_depth,\n",
    "                                   random_state = RANDOM_STATE).fit(x_train,y_train) \n",
    "     predictions_train = model.predict(x_train)\n",
    "     predictions_val = model.predict(x_test) \n",
    "     accuracy_train = accuracy_score(predictions_train,y_train)\n",
    "     accuracy_val = accuracy_score(predictions_val,y_test)\n",
    "     accuracy_list_train.append(accuracy_train)\n",
    "     accuracy_list_val.append(accuracy_val)\n",
    "\n",
    "plt.title('Train x Validation metrics')\n",
    "plt.xlabel('max_depth')\n",
    "plt.ylabel('accuracy')\n",
    "plt.xticks(ticks = range(len(min_samples_split_list)),labels=min_samples_split_list) \n",
    "plt.plot(accuracy_list_train)\n",
    "plt.plot(accuracy_list_val)\n",
    "plt.legend(['Train','Validation'])"
   ]
  },
  {
   "cell_type": "code",
   "execution_count": 44,
   "metadata": {},
   "outputs": [
    {
     "data": {
      "text/plain": [
       "<matplotlib.legend.Legend at 0x14b9f93c460>"
      ]
     },
     "execution_count": 44,
     "metadata": {},
     "output_type": "execute_result"
    },
    {
     "data": {
      "image/png": "[encoded data removed]",
      "text/plain": [
       "<Figure size 640x480 with 1 Axes>"
      ]
     },
     "metadata": {},
     "output_type": "display_data"
    }
   ],
   "source": [
    "accuracy_list_train = []\n",
    "accuracy_list_val = []\n",
    "for n_estimators in n_estimators_list:\n",
    "     model = RandomForestClassifier(n_estimators = n_estimators,\n",
    "                                   random_state = RANDOM_STATE).fit(x_train,y_train) \n",
    "     predictions_train = model.predict(x_train)\n",
    "     predictions_val = model.predict(x_test) \n",
    "     accuracy_train = accuracy_score(predictions_train,y_train)\n",
    "     accuracy_val = accuracy_score(predictions_val,y_test)\n",
    "     accuracy_list_train.append(accuracy_train)\n",
    "     accuracy_list_val.append(accuracy_val)\n",
    "\n",
    "plt.title('Train x Validation metrics')\n",
    "plt.xlabel('n_estimators')\n",
    "plt.ylabel('accuracy')\n",
    "plt.xticks(ticks = range(len(min_samples_split_list)),labels=min_samples_split_list) \n",
    "plt.plot(accuracy_list_train)\n",
    "plt.plot(accuracy_list_val)\n",
    "plt.legend(['Train','Validation'])"
   ]
  },
  {
   "cell_type": "code",
   "execution_count": 47,
   "metadata": {},
   "outputs": [
    {
     "name": "stdout",
     "output_type": "stream",
     "text": [
      "Metrics train:\n",
      "\tAccuracy score: 0.9650\n",
      "Metrics test:\n",
      "\tAccuracy score: 0.8958\n"
     ]
    }
   ],
   "source": [
    "random_forest_model = RandomForestClassifier(n_estimators = 50,\n",
    "                                             max_depth = 200, \n",
    "                                             min_samples_split = 10).fit(x_train,y_train)\n",
    "print(f\"Metrics train:\\n\\tAccuracy score: {accuracy_score(random_forest_model.predict(x_train),y_train):.4f}\\nMetrics test:\\n\\tAccuracy score: {accuracy_score(random_forest_model.predict(x_test),y_test):.4f}\")"
   ]
  }
 ],
 "metadata": {
  "kernelspec": {
   "display_name": "Python 3",
   "language": "python",
   "name": "python3"
  },
  "language_info": {
   "codemirror_mode": {
    "name": "ipython",
    "version": 3
   },
   "file_extension": ".py",
   "mimetype": "text/x-python",
   "name": "python",
   "nbconvert_exporter": "python",
   "pygments_lexer": "ipython3",
   "version": "3.10.10"
  },
  "orig_nbformat": 4
 },
 "nbformat": 4,
 "nbformat_minor": 2
}
