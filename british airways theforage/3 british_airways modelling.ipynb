{
 "cells": [
  {
   "attachments": {},
   "cell_type": "markdown",
   "metadata": {},
   "source": [
    "BRITISH AIRWAYS ANALYSIS\n",
    "---\n"
   ]
  },
  {
   "cell_type": "code",
   "execution_count": 4,
   "metadata": {},
   "outputs": [],
   "source": [
    "#import packages\n",
    "\n",
    "import requests\n",
    "from bs4 import BeautifulSoup\n",
    "import pandas as pd\n",
    "import numpy as np \n",
    "import matplotlib.pyplot as plt\n",
    "import seaborn as sns\n",
    "pd.options.display.float_format = '{:.5f}'.format \n",
    "np.set_printoptions(suppress=True, precision=5)"
   ]
  },
  {
   "attachments": {},
   "cell_type": "markdown",
   "metadata": {},
   "source": [
    "## <center><h2>Classification booking completion <h2><center>\n",
    "---"
   ]
  },
  {
   "cell_type": "code",
   "execution_count": 29,
   "metadata": {},
   "outputs": [],
   "source": [
    "from sklearn.model_selection import train_test_split, KFold, cross_validate, cross_val_score\n",
    "from sklearn.pipeline import Pipeline\n",
    "from sklearn.compose import ColumnTransformer\n",
    "from sklearn.preprocessing import LabelEncoder, OneHotEncoder\n",
    "from sklearn.impute import SimpleImputer\n",
    "from sklearn.ensemble import RandomForestClassifier\n",
    "from xgboost import XGBClassifier\n",
    "from sklearn.linear_model import LogisticRegression\n",
    "from sklearn.tree import DecisionTreeClassifier\n",
    "from sklearn.metrics import accuracy_score\n",
    "from sklearn.model_selection import train_test_split \n",
    "from sklearn import metrics\n",
    "from sklearn.metrics import r2_score\n",
    "from sklearn.model_selection import cross_val_score\n",
    "from sklearn.linear_model import LogisticRegression\n",
    "from sklearn.model_selection import GridSearchCV\n",
    "pd.options.display.float_format = \"{:.3f}\".format"
   ]
  },
  {
   "cell_type": "code",
   "execution_count": 30,
   "metadata": {},
   "outputs": [],
   "source": [
    "df.to_csv(\"E:/learn st new/BA_reviews2.csv\")"
   ]
  },
  {
   "cell_type": "code",
   "execution_count": 30,
   "metadata": {},
   "outputs": [
    {
     "data": {
      "text/html": [
       "<div>\n",
       "<style scoped>\n",
       "    .dataframe tbody tr th:only-of-type {\n",
       "        vertical-align: middle;\n",
       "    }\n",
       "\n",
       "    .dataframe tbody tr th {\n",
       "        vertical-align: top;\n",
       "    }\n",
       "\n",
       "    .dataframe thead th {\n",
       "        text-align: right;\n",
       "    }\n",
       "</style>\n",
       "<table border=\"1\" class=\"dataframe\">\n",
       "  <thead>\n",
       "    <tr style=\"text-align: right;\">\n",
       "      <th></th>\n",
       "      <th>num_passengers</th>\n",
       "      <th>sales_channel</th>\n",
       "      <th>trip_type</th>\n",
       "      <th>purchase_lead</th>\n",
       "      <th>length_of_stay</th>\n",
       "      <th>flight_hour</th>\n",
       "      <th>flight_day</th>\n",
       "      <th>route</th>\n",
       "      <th>booking_origin</th>\n",
       "      <th>wants_extra_baggage</th>\n",
       "      <th>wants_preferred_seat</th>\n",
       "      <th>wants_in_flight_meals</th>\n",
       "      <th>flight_duration</th>\n",
       "      <th>booking_complete</th>\n",
       "    </tr>\n",
       "  </thead>\n",
       "  <tbody>\n",
       "    <tr>\n",
       "      <th>0</th>\n",
       "      <td>2</td>\n",
       "      <td>Internet</td>\n",
       "      <td>RoundTrip</td>\n",
       "      <td>262</td>\n",
       "      <td>19</td>\n",
       "      <td>7</td>\n",
       "      <td>Sat</td>\n",
       "      <td>AKLDEL</td>\n",
       "      <td>New Zealand</td>\n",
       "      <td>1</td>\n",
       "      <td>0</td>\n",
       "      <td>0</td>\n",
       "      <td>5.520</td>\n",
       "      <td>0</td>\n",
       "    </tr>\n",
       "    <tr>\n",
       "      <th>1</th>\n",
       "      <td>1</td>\n",
       "      <td>Internet</td>\n",
       "      <td>RoundTrip</td>\n",
       "      <td>112</td>\n",
       "      <td>20</td>\n",
       "      <td>3</td>\n",
       "      <td>Sat</td>\n",
       "      <td>AKLDEL</td>\n",
       "      <td>New Zealand</td>\n",
       "      <td>0</td>\n",
       "      <td>0</td>\n",
       "      <td>0</td>\n",
       "      <td>5.520</td>\n",
       "      <td>0</td>\n",
       "    </tr>\n",
       "    <tr>\n",
       "      <th>2</th>\n",
       "      <td>2</td>\n",
       "      <td>Internet</td>\n",
       "      <td>RoundTrip</td>\n",
       "      <td>243</td>\n",
       "      <td>22</td>\n",
       "      <td>17</td>\n",
       "      <td>Wed</td>\n",
       "      <td>AKLDEL</td>\n",
       "      <td>India</td>\n",
       "      <td>1</td>\n",
       "      <td>1</td>\n",
       "      <td>0</td>\n",
       "      <td>5.520</td>\n",
       "      <td>0</td>\n",
       "    </tr>\n",
       "    <tr>\n",
       "      <th>3</th>\n",
       "      <td>1</td>\n",
       "      <td>Internet</td>\n",
       "      <td>RoundTrip</td>\n",
       "      <td>96</td>\n",
       "      <td>31</td>\n",
       "      <td>4</td>\n",
       "      <td>Sat</td>\n",
       "      <td>AKLDEL</td>\n",
       "      <td>New Zealand</td>\n",
       "      <td>0</td>\n",
       "      <td>0</td>\n",
       "      <td>1</td>\n",
       "      <td>5.520</td>\n",
       "      <td>0</td>\n",
       "    </tr>\n",
       "    <tr>\n",
       "      <th>4</th>\n",
       "      <td>2</td>\n",
       "      <td>Internet</td>\n",
       "      <td>RoundTrip</td>\n",
       "      <td>68</td>\n",
       "      <td>22</td>\n",
       "      <td>15</td>\n",
       "      <td>Wed</td>\n",
       "      <td>AKLDEL</td>\n",
       "      <td>India</td>\n",
       "      <td>1</td>\n",
       "      <td>0</td>\n",
       "      <td>1</td>\n",
       "      <td>5.520</td>\n",
       "      <td>0</td>\n",
       "    </tr>\n",
       "  </tbody>\n",
       "</table>\n",
       "</div>"
      ],
      "text/plain": [
       "   num_passengers sales_channel  trip_type  purchase_lead  length_of_stay  \\\n",
       "0               2      Internet  RoundTrip            262              19   \n",
       "1               1      Internet  RoundTrip            112              20   \n",
       "2               2      Internet  RoundTrip            243              22   \n",
       "3               1      Internet  RoundTrip             96              31   \n",
       "4               2      Internet  RoundTrip             68              22   \n",
       "\n",
       "   flight_hour flight_day   route booking_origin  wants_extra_baggage  \\\n",
       "0            7        Sat  AKLDEL    New Zealand                    1   \n",
       "1            3        Sat  AKLDEL    New Zealand                    0   \n",
       "2           17        Wed  AKLDEL          India                    1   \n",
       "3            4        Sat  AKLDEL    New Zealand                    0   \n",
       "4           15        Wed  AKLDEL          India                    1   \n",
       "\n",
       "   wants_preferred_seat  wants_in_flight_meals  flight_duration  \\\n",
       "0                     0                      0            5.520   \n",
       "1                     0                      0            5.520   \n",
       "2                     1                      0            5.520   \n",
       "3                     0                      1            5.520   \n",
       "4                     0                      1            5.520   \n",
       "\n",
       "   booking_complete  \n",
       "0                 0  \n",
       "1                 0  \n",
       "2                 0  \n",
       "3                 0  \n",
       "4                 0  "
      ]
     },
     "execution_count": 30,
     "metadata": {},
     "output_type": "execute_result"
    }
   ],
   "source": [
    "#Import data\n",
    "df = pd.read_csv(r'E:\\learn st new\\british airways theforage\\customer_booking.csv', encoding ='latin1')\n",
    "df.head()"
   ]
  },
  {
   "cell_type": "code",
   "execution_count": 32,
   "metadata": {},
   "outputs": [
    {
     "data": {
      "text/plain": [
       "num_passengers           0\n",
       "sales_channel            0\n",
       "trip_type                0\n",
       "purchase_lead            0\n",
       "length_of_stay           0\n",
       "flight_hour              0\n",
       "flight_day               0\n",
       "route                    0\n",
       "booking_origin           0\n",
       "wants_extra_baggage      0\n",
       "wants_preferred_seat     0\n",
       "wants_in_flight_meals    0\n",
       "flight_duration          0\n",
       "booking_complete         0\n",
       "dtype: int64"
      ]
     },
     "execution_count": 32,
     "metadata": {},
     "output_type": "execute_result"
    }
   ],
   "source": [
    "df.isnull().sum()"
   ]
  },
  {
   "cell_type": "code",
   "execution_count": 31,
   "metadata": {},
   "outputs": [
    {
     "data": {
      "text/plain": [
       "['sales_channel', 'trip_type', 'flight_day', 'route', 'booking_origin']"
      ]
     },
     "execution_count": 31,
     "metadata": {},
     "output_type": "execute_result"
    }
   ],
   "source": [
    "cat_col = []\n",
    "for x in df.dtypes.index:\n",
    "    if df.dtypes[x] == 'object':\n",
    "        cat_col.append(x)\n",
    "cat_col"
   ]
  },
  {
   "cell_type": "code",
   "execution_count": 33,
   "metadata": {},
   "outputs": [
    {
     "name": "stdout",
     "output_type": "stream",
     "text": [
      "sales_channel\n",
      "Internet    44382\n",
      "Mobile       5618\n",
      "Name: sales_channel, dtype: int64\n",
      "\n",
      "trip_type\n",
      "RoundTrip     49497\n",
      "OneWay          387\n",
      "CircleTrip      116\n",
      "Name: trip_type, dtype: int64\n",
      "\n",
      "flight_day\n",
      "Mon    8102\n",
      "Wed    7674\n",
      "Tue    7673\n",
      "Thu    7424\n",
      "Fri    6761\n",
      "Sun    6554\n",
      "Sat    5812\n",
      "Name: flight_day, dtype: int64\n",
      "\n",
      "route\n",
      "AKLKUL    2680\n",
      "PENTPE     924\n",
      "MELSGN     842\n",
      "ICNSIN     801\n",
      "DMKKIX     744\n",
      "          ... \n",
      "LBUTPE       1\n",
      "CXRMEL       1\n",
      "DELKBR       1\n",
      "KOSSYD       1\n",
      "MRUXIY       1\n",
      "Name: route, Length: 799, dtype: int64\n",
      "\n",
      "booking_origin\n",
      "Australia               17872\n",
      "Malaysia                 7174\n",
      "South Korea              4559\n",
      "Japan                    3885\n",
      "China                    3387\n",
      "                        ...  \n",
      "Panama                      1\n",
      "Tonga                       1\n",
      "Tanzania                    1\n",
      "Bulgaria                    1\n",
      "Svalbard & Jan Mayen        1\n",
      "Name: booking_origin, Length: 104, dtype: int64\n",
      "\n"
     ]
    }
   ],
   "source": [
    "for col in cat_col:\n",
    "    print(col)\n",
    "    print(df[col].value_counts())\n",
    "    print()"
   ]
  },
  {
   "cell_type": "code",
   "execution_count": 34,
   "metadata": {},
   "outputs": [],
   "source": [
    "labelencoder = LabelEncoder()\n",
    "df['sales_channel'] = labelencoder.fit_transform(df['sales_channel'])\n",
    "df['trip_type'] =labelencoder.fit_transform(df['trip_type'])\n",
    "df['flight_day'] =labelencoder.fit_transform(df['flight_day'])\n",
    "df['route'] = labelencoder.fit_transform(df['route'])\n",
    "df['booking_origin'] =labelencoder.fit_transform(df['booking_origin'])\n",
    "\n",
    "#8 dữ liệu encoding"
   ]
  },
  {
   "cell_type": "code",
   "execution_count": 103,
   "metadata": {},
   "outputs": [],
   "source": [
    "# pipeline featuring\n",
    "\n",
    "cat_features = ['sales_channel','trip_type','flight_day','route','booking_origin']\n",
    "\n",
    "num_features = ['num_passengers','purchase_lead','length_of_stay', 'flight_hour', 'flight_duration', 'wants_extra_baggage','wants_preferred_seat','wants_in_flight_meals']\n",
    "\n",
    "features = num_features + cat_features\n",
    "X = df.drop([\"booking_complete\"], axis=1)[features]\n",
    "y = df[\"booking_complete\"]"
   ]
  },
  {
   "cell_type": "code",
   "execution_count": 104,
   "metadata": {},
   "outputs": [],
   "source": [
    "num_transformer = SimpleImputer(strategy=\"constant\")\n",
    "\n",
    "cat_transformer = Pipeline(steps=[\n",
    "    (\"imputer\", SimpleImputer(strategy=\"constant\", fill_value =0)),\n",
    "    (\"onehot\", OneHotEncoder(handle_unknown='ignore'))])\n",
    "\n",
    "preprocessor = ColumnTransformer(transformers=[(\"num\", num_transformer, num_features),\n",
    "                                               (\"cat\", cat_transformer, cat_features)])"
   ]
  },
  {
   "cell_type": "code",
   "execution_count": 105,
   "metadata": {},
   "outputs": [
    {
     "name": "stdout",
     "output_type": "stream",
     "text": [
      "Variables in Train Set : 37500 & Test Set : 12500\n"
     ]
    }
   ],
   "source": [
    "from sklearn.model_selection import train_test_split\n",
    "x_train,x_test,y_train,y_test = train_test_split(X,y,test_size=0.25,random_state=30)\n",
    "print(\"Variables in Train Set : {} & Test Set : {}\".format(len(x_train), len(x_test)))"
   ]
  },
  {
   "cell_type": "code",
   "execution_count": 91,
   "metadata": {},
   "outputs": [],
   "source": [
    "from imblearn.over_sampling import SMOTE\n",
    "\n",
    "# Upsampling with SMOTE algorithm\n",
    "smote = SMOTE(random_state= None ,k_neighbors= 5)\n",
    "\n",
    "X_smote, y_smote = smote.fit_resample(X, y)"
   ]
  },
  {
   "cell_type": "code",
   "execution_count": 52,
   "metadata": {},
   "outputs": [],
   "source": [
    "from sklearn.preprocessing import StandardScaler"
   ]
  },
  {
   "cell_type": "code",
   "execution_count": 106,
   "metadata": {},
   "outputs": [
    {
     "name": "stdout",
     "output_type": "stream",
     "text": [
      "DT_model cross validation accuarcy score: 0.7895 +/- 0.005 (std) min: 0.7819, max: 0.7959, \n",
      "RF_model cross validation accuarcy score: 0.8486 +/- 0.0045 (std) min: 0.8431, max: 0.8555, \n",
      "LR_model cross validation accuarcy score: 0.8498 +/- 0.0056 (std) min: 0.8413, max: 0.8557, \n",
      "XGB_model cross validation accuarcy score: 0.8497 +/- 0.0053 (std) min: 0.8416, max: 0.8564, \n"
     ]
    }
   ],
   "source": [
    "#Modeling\n",
    "\n",
    "base_models = [(\"DT_model\", DecisionTreeClassifier(random_state=42)),\n",
    "               (\"RF_model\", RandomForestClassifier(random_state=42,n_jobs=-1)),\n",
    "               (\"LR_model\", LogisticRegression(random_state=42,n_jobs=-1)),\n",
    "               (\"XGB_model\", XGBClassifier(random_state=42, n_jobs=-1))]\n",
    "\n",
    "\n",
    "kfolds = 4 \n",
    "split = KFold(n_splits= kfolds, shuffle=True, random_state=42)\n",
    "\n",
    "# Preprocessing, fitting, making predictions and scoring for every model:\n",
    "for name, model in base_models:\n",
    "    \n",
    "    model_steps = Pipeline(steps=[('preprocessor', preprocessor),\n",
    "                              ('model', model)])\n",
    "    \n",
    "    cv_results = cross_val_score(model_steps, \n",
    "                                 x_train, y_train, \n",
    "                                 cv=split,\n",
    "                                 scoring=\"accuracy\",\n",
    "                                 n_jobs=-1,\n",
    "                                 error_score='raise')\n",
    "\n",
    "    min_score = round(min(cv_results), 4)\n",
    "    max_score = round(max(cv_results), 4)\n",
    "    mean_score = round(np.mean(cv_results), 4)\n",
    "    std_dev = round(np.std(cv_results), 4)\n",
    "    print(f\"{name} cross validation accuarcy score: {mean_score} +/- {std_dev} (std) min: {min_score}, max: {max_score}, \")"
   ]
  },
  {
   "attachments": {},
   "cell_type": "markdown",
   "metadata": {},
   "source": [
    "Logistic Model có accuracy score lớn nhất nhưng chỉ nhỉnh hơn XGBoost 0.0001, sai số cao hơn 0.0003 và performance cao nhất thấp hơn của XGB nên lựa chọn XGBoost làm model của mô hình"
   ]
  },
  {
   "cell_type": "code",
   "execution_count": 119,
   "metadata": {},
   "outputs": [
    {
     "name": "stdout",
     "output_type": "stream",
     "text": [
      "Enhanced XGB model cross validation accuarcy score: 84.5%\n"
     ]
    }
   ],
   "source": [
    "#Chọn model tốt nhất\n",
    "\n",
    "enh = XGBClassifier(n_estimators=160,\n",
    "                               max_features=0.3,\n",
    "                               min_samples_split=2,\n",
    "                               n_jobs=-1,\n",
    "                               random_state=0)\n",
    "\n",
    "split = KFold(n_splits=kfolds, shuffle=True, random_state=42)\n",
    "model_pipe = Pipeline(steps=[('preprocessor', preprocessor),\n",
    "                              ('model', enh)])\n",
    "cv_results1 = cross_val_score(model_pipe, \n",
    "                                 x_test, y_test, \n",
    "                                 cv=split,\n",
    "                                 scoring=\"accuracy\",\n",
    "                                 n_jobs=-1)\n",
    "# output:\n",
    "print(\"Enhanced XGB model cross validation accuarcy score: {}%\".format(100*round(np.mean(cv_results1),3)))"
   ]
  },
  {
   "cell_type": "code",
   "execution_count": 125,
   "metadata": {},
   "outputs": [
    {
     "name": "stdout",
     "output_type": "stream",
     "text": [
      "[13:10:58] WARNING: C:/buildkite-agent/builds/buildkite-windows-cpu-autoscaling-group-i-0fc7796c793e6356f-1/xgboost/xgboost-ci-windows/src/learner.cc:767: \n",
      "Parameters: { \"max_features\", \"min_samples_split\" } are not used.\n",
      "\n"
     ]
    },
    {
     "data": {
      "image/png": "[encoded data removed]",
      "text/plain": [
       "<Figure size 640x480 with 1 Axes>"
      ]
     },
     "metadata": {},
     "output_type": "display_data"
    }
   ],
   "source": [
    "from sklearn.metrics import RocCurveDisplay\n",
    "fitmodel = model_pipe.fit(x_train, y_train)\n",
    "display = RocCurveDisplay.from_estimator(fitmodel, x_test, y_test)\n",
    "plt.plot([0, 1], [0, 1],'r--')\n",
    "plt.xlim([0, 1])\n",
    "plt.ylim([0, 1])\n",
    "pass"
   ]
  },
  {
   "attachments": {},
   "cell_type": "markdown",
   "metadata": {},
   "source": [
    "<ul>\n",
    "    <li>Mô hình tốt nhất được lựa chọn có ROC cong lồi về phía trên, mô hình phân loại tương đối tốt\n",
    "    <li>AUC đạt 0.8 có thể xem ở các ngưỡng phân loại thì mô hình được coi là tốt"
   ]
  },
  {
   "attachments": {},
   "cell_type": "markdown",
   "metadata": {},
   "source": [
    "<center><h2>Kết luận<h2></center\n",
    "    \n",
    " <ul>\n",
    "    <li>Thuật toán XGBoost có performance tốt nhất với độ chính xác xấp xỉ 84,5%</li>\n",
    "    <li>Mô hình sử dụng các thuật toán đơn giản để kiểm tra,do lượng biến tương đối nhỏ chưa dùng tới các kỹ thuật trong Deep learning hay Giảm chiều dữ liệu/Smote</li>\n",
    "</ul>"
   ]
  }
 ],
 "metadata": {
  "kernelspec": {
   "display_name": "Python 3",
   "language": "python",
   "name": "python3"
  },
  "language_info": {
   "codemirror_mode": {
    "name": "ipython",
    "version": 3
   },
   "file_extension": ".py",
   "mimetype": "text/x-python",
   "name": "python",
   "nbconvert_exporter": "python",
   "pygments_lexer": "ipython3",
   "version": "3.10.10"
  },
  "orig_nbformat": 4
 },
 "nbformat": 4,
 "nbformat_minor": 2
}
